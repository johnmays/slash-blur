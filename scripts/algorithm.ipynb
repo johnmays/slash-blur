{
 "cells": [
  {
   "cell_type": "markdown",
   "id": "4946372d",
   "metadata": {},
   "source": [
    "# Slash Blur\n",
    "\n",
    "John Mays | Created: 07/05/2025 | Last Updated: 07/05/2025"
   ]
  },
  {
   "cell_type": "markdown",
   "id": "7c64bfae",
   "metadata": {},
   "source": [
    "## Setup:"
   ]
  },
  {
   "cell_type": "code",
   "execution_count": 17,
   "id": "e4036911",
   "metadata": {},
   "outputs": [],
   "source": [
    "from PIL import Image\n",
    "import random"
   ]
  },
  {
   "cell_type": "code",
   "execution_count": 30,
   "id": "0318f2b5",
   "metadata": {},
   "outputs": [],
   "source": [
    "# global variables\n",
    "concentration = 0.5 # average slashes per pixel\n",
    "slash_length = 5 # unit: pixels\n",
    "slash_intensity = 1 # balance between slash and original pixels | 0 is all original. 1 is all slash.\n",
    "image_bounds = None"
   ]
  },
  {
   "cell_type": "markdown",
   "id": "6fb3e1d8",
   "metadata": {},
   "source": [
    "## Import:"
   ]
  },
  {
   "cell_type": "code",
   "execution_count": 2,
   "id": "09d73144",
   "metadata": {},
   "outputs": [],
   "source": [
    "e = Image.open('../data/in/test_e_big.png')"
   ]
  },
  {
   "cell_type": "code",
   "execution_count": 5,
   "id": "b6c12cc1",
   "metadata": {},
   "outputs": [
    {
     "data": {
      "text/plain": [
       "(1536, 864)"
      ]
     },
     "execution_count": 5,
     "metadata": {},
     "output_type": "execute_result"
    }
   ],
   "source": [
    "e.size"
   ]
  },
  {
   "cell_type": "code",
   "execution_count": 7,
   "id": "d5507cb5",
   "metadata": {},
   "outputs": [],
   "source": [
    "e.putpixel((10, 10), (255, 0, 0))"
   ]
  },
  {
   "cell_type": "code",
   "execution_count": 8,
   "id": "dcaf5d2d",
   "metadata": {},
   "outputs": [
    {
     "data": {
      "text/plain": [
       "(255, 0, 0)"
      ]
     },
     "execution_count": 8,
     "metadata": {},
     "output_type": "execute_result"
    }
   ],
   "source": [
    "e.getpixel((10,10))\n"
   ]
  },
  {
   "cell_type": "code",
   "execution_count": 31,
   "id": "abbab18e",
   "metadata": {},
   "outputs": [],
   "source": [
    "image_bounds = (0, 0) + e.size"
   ]
  },
  {
   "cell_type": "code",
   "execution_count": 33,
   "id": "45891f42",
   "metadata": {},
   "outputs": [
    {
     "data": {
      "text/plain": [
       "(0, 0, 1536, 864)"
      ]
     },
     "execution_count": 33,
     "metadata": {},
     "output_type": "execute_result"
    }
   ],
   "source": [
    "image_bounds"
   ]
  },
  {
   "cell_type": "markdown",
   "id": "16470218",
   "metadata": {},
   "source": [
    "## Algorithm:"
   ]
  },
  {
   "cell_type": "code",
   "execution_count": 34,
   "id": "3fa58f1f",
   "metadata": {},
   "outputs": [],
   "source": [
    "class Blur:\n",
    "    \"\"\"\n",
    "    One instance of the Blur class represents one parameterized instance\n",
    "    of the blur algorithm.\n",
    "    \"\"\"\n",
    "\n",
    "    def Blur(self, concentration, slash_length, slash_intensity):\n",
    "        self.concentration = concentration # average slashes per pixel\n",
    "        self.slash_length = slash_length # unit: pixels\n",
    "        self.slash_intensity = slash_intensity # balance between slash and original pixels | 0 is all original. 1 is all slash.\n",
    "        self.image_bounds = None\n",
    "    \n",
    "    def within(self, pixel:tuple) -> bool:\n",
    "        x, y = pixel\n",
    "        if x >= self.image_bounds[0] and x < self.image_bounds[2]\\\n",
    "        and y >= self.image_bounds[1] and y < self.image_bounds[3]:\n",
    "            return True\n",
    "        return False\n",
    "\n",
    "    def perform_blur(self, im:Image.Image) -> Image.Image:\n",
    "        self.image_bounds = (0, 0) + im.size\n",
    "        pass\n",
    "        return im"
   ]
  },
  {
   "cell_type": "code",
   "execution_count": null,
   "id": "b1cb67b6",
   "metadata": {},
   "outputs": [],
   "source": [
    "def within"
   ]
  },
  {
   "cell_type": "code",
   "execution_count": null,
   "id": "26984182",
   "metadata": {},
   "outputs": [],
   "source": [
    "def get_slash_pixels(center_pixel, slope):\n",
    "    slash_pixels = [center_pixel]\n",
    "    \n",
    "\n",
    "    slash_pixels = [p for p in slash_pixels if ]"
   ]
  },
  {
   "cell_type": "code",
   "execution_count": null,
   "id": "14ecf5cb",
   "metadata": {},
   "outputs": [],
   "source": [
    "def perform_slash(im, center_pixel: tuple) -> None:\n",
    "    slash_slope = random.uniform(-1,1)\n",
    "    "
   ]
  },
  {
   "cell_type": "code",
   "execution_count": null,
   "id": "79f5fcd1",
   "metadata": {},
   "outputs": [],
   "source": [
    "def perform_blur(image: Image.Image) -> Image.Image:"
   ]
  }
 ],
 "metadata": {
  "kernelspec": {
   "display_name": "venv",
   "language": "python",
   "name": "python3"
  },
  "language_info": {
   "codemirror_mode": {
    "name": "ipython",
    "version": 3
   },
   "file_extension": ".py",
   "mimetype": "text/x-python",
   "name": "python",
   "nbconvert_exporter": "python",
   "pygments_lexer": "ipython3",
   "version": "3.13.5"
  }
 },
 "nbformat": 4,
 "nbformat_minor": 5
}
